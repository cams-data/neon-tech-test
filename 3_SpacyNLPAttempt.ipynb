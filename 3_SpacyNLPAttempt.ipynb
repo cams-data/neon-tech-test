{
 "cells": [
  {
   "cell_type": "markdown",
   "id": "1b077486",
   "metadata": {},
   "source": [
    "# Spacy NLP Solution\n",
    "## Description\n",
    "This solution involves using a more typical python NLP approach using the Spacy package and Spaczz package, which is used for fuzzy NLP.  Spacy is a python NLP package used for NER, POS tagging and other NLP tasks.  I will use it to find content titles in the responses."
   ]
  },
  {
   "cell_type": "code",
   "execution_count": 180,
   "id": "25d9e66a",
   "metadata": {},
   "outputs": [],
   "source": [
    "import pandas as pd\n",
    "import re\n",
    "import spacy\n",
    "from spacy.matcher import PhraseMatcher\n",
    "from spaczz.matcher import SimilarityMatcher\n",
    "from spaczz.pipeline import SpaczzRuler\n",
    "#Try load the required language model, otherwise download it\n",
    "try:\n",
    "    nlp = spacy.load(\"en_core_web_md\")\n",
    "except:\n",
    "    spacy.cli.download(\"en_core_web_md\")\n",
    "    nlp = spacy.load(\"en_core_web_md\")"
   ]
  },
  {
   "cell_type": "markdown",
   "id": "7f577fbb",
   "metadata": {},
   "source": [
    "## Importing and Transforming the Data\n",
    "This time I won't be doing an intial transformation of the content titles, nor will I be doing such a total transformation on the survey response.  This is because spacy will take into account the punctuation of the sentences, so removing them will likely harm performance."
   ]
  },
  {
   "cell_type": "code",
   "execution_count": 181,
   "id": "87aa3b45",
   "metadata": {},
   "outputs": [],
   "source": [
    "content_titles_df = pd.read_csv('ProvidedFiles/Content sample.csv')\n",
    "survey_response_df = pd.read_csv('ProvidedFiles/Survey response sample data.csv')\n",
    "survey_response_df['transformed'] = survey_response_df.apply(lambda x: re.sub(' +', ' ',x['Response'].replace('\\n', ' ').replace(',', ', ').replace('-','- ')), axis=1)"
   ]
  },
  {
   "cell_type": "markdown",
   "id": "d5a7e152",
   "metadata": {},
   "source": [
    "## Building the NLP Matcher\n",
    "I will generate a number of different patterns for each content name, 4 in this case, but with some more regex replacements I could come up with more to ensure robust matching.  I'm using spaczz's SimilarityMatcher for this task."
   ]
  },
  {
   "cell_type": "code",
   "execution_count": 182,
   "id": "36fa327d",
   "metadata": {},
   "outputs": [],
   "source": [
    "matcher = SimilarityMatcher(nlp.vocab)\n",
    "for index, row in content_titles_df.iterrows():\n",
    "    patterns = []\n",
    "    patterns.append(nlp(row['Content_name']))\n",
    "    patterns.append(nlp(row['Content_name'].lower()))\n",
    "    patterns.append(nlp(re.sub(' +', ' ',re.sub(r'[^\\w| ]', '', row['Content_name']).lower())))\n",
    "    patterns.append(nlp(re.sub(' +', ' ',re.sub(r'[^\\w| ]', ' ', row['Content_name']).lower())))\n",
    "    matcher.add(row['Content_name'], patterns)\n",
    "\n"
   ]
  },
  {
   "cell_type": "markdown",
   "id": "b8f18043",
   "metadata": {},
   "source": [
    "## Generating the Results"
   ]
  },
  {
   "cell_type": "code",
   "execution_count": 183,
   "id": "e983f279",
   "metadata": {},
   "outputs": [
    {
     "data": {
      "text/html": [
       "<div>\n",
       "<style scoped>\n",
       "    .dataframe tbody tr th:only-of-type {\n",
       "        vertical-align: middle;\n",
       "    }\n",
       "\n",
       "    .dataframe tbody tr th {\n",
       "        vertical-align: top;\n",
       "    }\n",
       "\n",
       "    .dataframe thead th {\n",
       "        text-align: right;\n",
       "    }\n",
       "</style>\n",
       "<table border=\"1\" class=\"dataframe\">\n",
       "  <thead>\n",
       "    <tr style=\"text-align: right;\">\n",
       "      <th></th>\n",
       "      <th>Customer_id</th>\n",
       "      <th>Response</th>\n",
       "      <th>Title</th>\n",
       "      <th>Score</th>\n",
       "    </tr>\n",
       "  </thead>\n",
       "  <tbody>\n",
       "    <tr>\n",
       "      <th>0</th>\n",
       "      <td>1</td>\n",
       "      <td>Fear the walking dead,Supernatural (huge fan a...</td>\n",
       "      <td>Fear the Walking Dead</td>\n",
       "      <td>100</td>\n",
       "    </tr>\n",
       "    <tr>\n",
       "      <th>10</th>\n",
       "      <td>3</td>\n",
       "      <td>Miss scarlet and the duke,knifes out,Dublin mu...</td>\n",
       "      <td>Knives Out</td>\n",
       "      <td>100</td>\n",
       "    </tr>\n",
       "    <tr>\n",
       "      <th>22</th>\n",
       "      <td>5</td>\n",
       "      <td>The Undoing,Game of thrones,Outlander, Vikings...</td>\n",
       "      <td>C.B. Strike</td>\n",
       "      <td>100</td>\n",
       "    </tr>\n",
       "    <tr>\n",
       "      <th>21</th>\n",
       "      <td>5</td>\n",
       "      <td>The Undoing,Game of thrones,Outlander, Vikings...</td>\n",
       "      <td>Vikings</td>\n",
       "      <td>100</td>\n",
       "    </tr>\n",
       "    <tr>\n",
       "      <th>20</th>\n",
       "      <td>5</td>\n",
       "      <td>The Undoing,Game of thrones,Outlander, Vikings...</td>\n",
       "      <td>Outlander</td>\n",
       "      <td>100</td>\n",
       "    </tr>\n",
       "  </tbody>\n",
       "</table>\n",
       "</div>"
      ],
      "text/plain": [
       "    Customer_id                                           Response  \\\n",
       "0             1  Fear the walking dead,Supernatural (huge fan a...   \n",
       "10            3  Miss scarlet and the duke,knifes out,Dublin mu...   \n",
       "22            5  The Undoing,Game of thrones,Outlander, Vikings...   \n",
       "21            5  The Undoing,Game of thrones,Outlander, Vikings...   \n",
       "20            5  The Undoing,Game of thrones,Outlander, Vikings...   \n",
       "\n",
       "                    Title  Score  \n",
       "0   Fear the Walking Dead    100  \n",
       "10             Knives Out    100  \n",
       "22            C.B. Strike    100  \n",
       "21                Vikings    100  \n",
       "20              Outlander    100  "
      ]
     },
     "execution_count": 183,
     "metadata": {},
     "output_type": "execute_result"
    }
   ],
   "source": [
    "customer_id_column = []\n",
    "response_column = []\n",
    "title_column = []\n",
    "score_column = []\n",
    "for index, row in survey_response_df.iterrows():\n",
    "    doc = nlp(row['transformed'])\n",
    "    matches = matcher(doc)\n",
    "    for _, start, end, ratio in matches:\n",
    "        customer_id_column.append(row['Customer_id'])\n",
    "        response_column.append(row['Response'])\n",
    "        title_column.append(_)\n",
    "        score_column.append(ratio)\n",
    "result_dict = {\n",
    "    'Customer_id':customer_id_column,\n",
    "    'Response':response_column,\n",
    "    'Title':title_column,\n",
    "    'Score': score_column}\n",
    "result_df = pd.DataFrame(result_dict).sort_values(by=['Score'], ascending=False)\n",
    "result_df.head()\n",
    "\n"
   ]
  },
  {
   "cell_type": "markdown",
   "id": "97012748",
   "metadata": {},
   "source": [
    "## Wrapping Up\n",
    "You may have noticed the output table is not quite in the requested format of [customer ID, response, names of content found], it's reasonably straight forward to write a function to transform the result_df above into the required format:"
   ]
  },
  {
   "cell_type": "code",
   "execution_count": 184,
   "id": "fcc55074",
   "metadata": {},
   "outputs": [],
   "source": [
    "def results_transformer(old_result_df, threshold):\n",
    "    response_list = []\n",
    "    titles_found_list = []\n",
    "    customer_id_list = []\n",
    "    for index, row in old_result_df.iterrows():\n",
    "        if row['Score'] >= threshold:\n",
    "            out_index = -1 \n",
    "            if row['Response'] not in response_list:\n",
    "                response_list.append(row['Response'])\n",
    "                titles_found_list.append(row['Title'])\n",
    "                customer_id_list.append(row['Customer_id'])\n",
    "            else:\n",
    "                out_index = response_list.index(row['Response'])\n",
    "                titles_found_list[out_index] += \", {}\".format(row['Title'])\n",
    "    new_result_dict = {\n",
    "    'Customer_id':customer_id_list,\n",
    "    'Response':response_list,\n",
    "    'Titles Found':titles_found_list}\n",
    "    return pd.DataFrame(new_result_dict)\n",
    "            "
   ]
  },
  {
   "cell_type": "code",
   "execution_count": 185,
   "id": "cd31f89b",
   "metadata": {
    "scrolled": true
   },
   "outputs": [
    {
     "data": {
      "text/html": [
       "<style type=\"text/css\">\n",
       "#T_4f83d th {\n",
       "  text-align: left;\n",
       "}\n",
       "#T_4f83d_row0_col0, #T_4f83d_row0_col1, #T_4f83d_row0_col2, #T_4f83d_row1_col0, #T_4f83d_row1_col1, #T_4f83d_row1_col2, #T_4f83d_row2_col0, #T_4f83d_row2_col1, #T_4f83d_row2_col2, #T_4f83d_row3_col0, #T_4f83d_row3_col1, #T_4f83d_row3_col2, #T_4f83d_row4_col0, #T_4f83d_row4_col1, #T_4f83d_row4_col2 {\n",
       "  text-align: left;\n",
       "}\n",
       "</style>\n",
       "<table id=\"T_4f83d\">\n",
       "  <thead>\n",
       "    <tr>\n",
       "      <th class=\"blank level0\" >&nbsp;</th>\n",
       "      <th id=\"T_4f83d_level0_col0\" class=\"col_heading level0 col0\" >Customer_id</th>\n",
       "      <th id=\"T_4f83d_level0_col1\" class=\"col_heading level0 col1\" >Response</th>\n",
       "      <th id=\"T_4f83d_level0_col2\" class=\"col_heading level0 col2\" >Titles Found</th>\n",
       "    </tr>\n",
       "  </thead>\n",
       "  <tbody>\n",
       "    <tr>\n",
       "      <th id=\"T_4f83d_level0_row0\" class=\"row_heading level0 row0\" >0</th>\n",
       "      <td id=\"T_4f83d_row0_col0\" class=\"data row0 col0\" >1</td>\n",
       "      <td id=\"T_4f83d_row0_col1\" class=\"data row0 col1\" >Fear the walking dead,Supernatural (huge fan and sad it has finished),The Gentlemen, Outlander</td>\n",
       "      <td id=\"T_4f83d_row0_col2\" class=\"data row0 col2\" >Fear the Walking Dead, Supernatural, Outlander, The Gentlemen</td>\n",
       "    </tr>\n",
       "    <tr>\n",
       "      <th id=\"T_4f83d_level0_row1\" class=\"row_heading level0 row1\" >1</th>\n",
       "      <td id=\"T_4f83d_row1_col0\" class=\"data row1 col0\" >3</td>\n",
       "      <td id=\"T_4f83d_row1_col1\" class=\"data row1 col1\" >Miss scarlet and the duke,knifes out,Dublin murders</td>\n",
       "      <td id=\"T_4f83d_row1_col2\" class=\"data row1 col2\" >Knives Out, Dublin Murders, Miss Scarlet and the Duke</td>\n",
       "    </tr>\n",
       "    <tr>\n",
       "      <th id=\"T_4f83d_level0_row2\" class=\"row_heading level0 row2\" >2</th>\n",
       "      <td id=\"T_4f83d_row2_col0\" class=\"data row2 col0\" >5</td>\n",
       "      <td id=\"T_4f83d_row2_col1\" class=\"data row2 col1\" >The Undoing,Game of thrones,Outlander, Vikings,CB Strike (and most all British dramas) Westworld</td>\n",
       "      <td id=\"T_4f83d_row2_col2\" class=\"data row2 col2\" >C.B. Strike, Vikings, Outlander, Game of Thrones, The Undoing, Westworld</td>\n",
       "    </tr>\n",
       "    <tr>\n",
       "      <th id=\"T_4f83d_level0_row3\" class=\"row_heading level0 row3\" >3</th>\n",
       "      <td id=\"T_4f83d_row3_col0\" class=\"data row3 col0\" >4</td>\n",
       "      <td id=\"T_4f83d_row3_col1\" class=\"data row3 col1\" >History drama-Vikings,Kid friendly-Casper,Sometimes the conversations while watching Neon can get serious but we all end up having fun together, :)</td>\n",
       "      <td id=\"T_4f83d_row3_col2\" class=\"data row3 col2\" >Casper, Vikings</td>\n",
       "    </tr>\n",
       "    <tr>\n",
       "      <th id=\"T_4f83d_level0_row4\" class=\"row_heading level0 row4\" >4</th>\n",
       "      <td id=\"T_4f83d_row4_col0\" class=\"data row4 col0\" >2</td>\n",
       "      <td id=\"T_4f83d_row4_col1\" class=\"data row4 col1\" >A lot!\n",
       "\n",
       "-good doctor\n",
       "-gangs of London \n",
       "- the gentleman\n",
       "-ma \n",
       "-spies in disguise </td>\n",
       "      <td id=\"T_4f83d_row4_col2\" class=\"data row4 col2\" >Spies in Disguise, Ma, Gangs of London, The Good Doctor, The Gentlemen</td>\n",
       "    </tr>\n",
       "  </tbody>\n",
       "</table>\n"
      ],
      "text/plain": [
       "<pandas.io.formats.style.Styler at 0x2b79f861fa0>"
      ]
     },
     "execution_count": 185,
     "metadata": {},
     "output_type": "execute_result"
    }
   ],
   "source": [
    "new_result_df = results_transformer(result_df, 85)\n",
    "df_styler =new_result_df.style.set_properties(**{'text-align': 'left'})\n",
    "df_styler.set_table_styles([dict(selector='th', props=[('text-align', 'left')])])"
   ]
  }
 ],
 "metadata": {
  "kernelspec": {
   "display_name": "neon_venv",
   "language": "python",
   "name": "neon_venv"
  },
  "language_info": {
   "codemirror_mode": {
    "name": "ipython",
    "version": 3
   },
   "file_extension": ".py",
   "mimetype": "text/x-python",
   "name": "python",
   "nbconvert_exporter": "python",
   "pygments_lexer": "ipython3",
   "version": "3.8.8"
  }
 },
 "nbformat": 4,
 "nbformat_minor": 5
}
