{
 "cells": [
  {
   "cell_type": "markdown",
   "id": "221aa002",
   "metadata": {},
   "source": [
    "# Initial Solution\n",
    "\n",
    "## Description\n",
    "The aim of this solution is to use the simplest method to solve this problem.  It will generate a baseline score to compare all future attempts against.  I will be performing a simple clean up of the text data and then use exact matching on the text.  The number of matches found for each row can then be used as a check for more complex matching attempts.  If at any time, any future solution produces a worse result than this method, I know that I have an error."
   ]
  },
  {
   "cell_type": "markdown",
   "id": "816691d9",
   "metadata": {},
   "source": [
    "# Importing The Data"
   ]
  },
  {
   "cell_type": "code",
   "execution_count": 66,
   "id": "fac997b7",
   "metadata": {},
   "outputs": [],
   "source": [
    "import numpy as np\n",
    "import pandas as pd\n",
    "import re\n",
    "pd.set_option('display.width', 1000)\n",
    "pd.set_option('display.max_colwidth', 200)"
   ]
  },
  {
   "cell_type": "code",
   "execution_count": 67,
   "id": "a79f97ab",
   "metadata": {},
   "outputs": [],
   "source": [
    "content_titles_df = pd.read_csv('ProvidedFiles/Content sample.csv')"
   ]
  },
  {
   "cell_type": "code",
   "execution_count": 68,
   "id": "4754aa45",
   "metadata": {},
   "outputs": [
    {
     "data": {
      "text/html": [
       "<div>\n",
       "<style scoped>\n",
       "    .dataframe tbody tr th:only-of-type {\n",
       "        vertical-align: middle;\n",
       "    }\n",
       "\n",
       "    .dataframe tbody tr th {\n",
       "        vertical-align: top;\n",
       "    }\n",
       "\n",
       "    .dataframe thead th {\n",
       "        text-align: right;\n",
       "    }\n",
       "</style>\n",
       "<table border=\"1\" class=\"dataframe\">\n",
       "  <thead>\n",
       "    <tr style=\"text-align: right;\">\n",
       "      <th></th>\n",
       "      <th>Content_name</th>\n",
       "    </tr>\n",
       "  </thead>\n",
       "  <tbody>\n",
       "    <tr>\n",
       "      <th>0</th>\n",
       "      <td>Fear the Walking Dead</td>\n",
       "    </tr>\n",
       "    <tr>\n",
       "      <th>1</th>\n",
       "      <td>Supernatural</td>\n",
       "    </tr>\n",
       "    <tr>\n",
       "      <th>2</th>\n",
       "      <td>The Gentlemen</td>\n",
       "    </tr>\n",
       "    <tr>\n",
       "      <th>3</th>\n",
       "      <td>Outlander</td>\n",
       "    </tr>\n",
       "    <tr>\n",
       "      <th>4</th>\n",
       "      <td>The Good Doctor</td>\n",
       "    </tr>\n",
       "  </tbody>\n",
       "</table>\n",
       "</div>"
      ],
      "text/plain": [
       "            Content_name\n",
       "0  Fear the Walking Dead\n",
       "1           Supernatural\n",
       "2          The Gentlemen\n",
       "3              Outlander\n",
       "4        The Good Doctor"
      ]
     },
     "execution_count": 68,
     "metadata": {},
     "output_type": "execute_result"
    }
   ],
   "source": [
    "content_titles_df.head()"
   ]
  },
  {
   "cell_type": "code",
   "execution_count": 69,
   "id": "6bc9d109",
   "metadata": {},
   "outputs": [],
   "source": [
    "survey_response_df = pd.read_csv('ProvidedFiles/Survey response sample data.csv')"
   ]
  },
  {
   "cell_type": "markdown",
   "id": "4e807dd8",
   "metadata": {},
   "source": [
    "## Sample Survey Responses"
   ]
  },
  {
   "cell_type": "code",
   "execution_count": 70,
   "id": "346ee9ec",
   "metadata": {
    "scrolled": true
   },
   "outputs": [
    {
     "data": {
      "text/html": [
       "<style  type=\"text/css\" >\n",
       "    #T_922d8_ th {\n",
       "          text-align: left;\n",
       "    }#T_922d8_row0_col0,#T_922d8_row0_col1,#T_922d8_row1_col0,#T_922d8_row1_col1,#T_922d8_row2_col0,#T_922d8_row2_col1,#T_922d8_row3_col0,#T_922d8_row3_col1,#T_922d8_row4_col0,#T_922d8_row4_col1{\n",
       "            text-align:  left;\n",
       "        }</style><table id=\"T_922d8_\" ><thead>    <tr>        <th class=\"blank level0\" ></th>        <th class=\"col_heading level0 col0\" >Customer_id</th>        <th class=\"col_heading level0 col1\" >Response</th>    </tr></thead><tbody>\n",
       "                <tr>\n",
       "                        <th id=\"T_922d8_level0_row0\" class=\"row_heading level0 row0\" >0</th>\n",
       "                        <td id=\"T_922d8_row0_col0\" class=\"data row0 col0\" >1</td>\n",
       "                        <td id=\"T_922d8_row0_col1\" class=\"data row0 col1\" >Fear the walking dead,Supernatural (huge fan and sad it has finished),The Gentlemen, Outlander</td>\n",
       "            </tr>\n",
       "            <tr>\n",
       "                        <th id=\"T_922d8_level0_row1\" class=\"row_heading level0 row1\" >1</th>\n",
       "                        <td id=\"T_922d8_row1_col0\" class=\"data row1 col0\" >2</td>\n",
       "                        <td id=\"T_922d8_row1_col1\" class=\"data row1 col1\" >A lot!\n",
       "\n",
       "-good doctor\n",
       "-gangs of London \n",
       "- the gentleman\n",
       "-ma \n",
       "-spies in disguise </td>\n",
       "            </tr>\n",
       "            <tr>\n",
       "                        <th id=\"T_922d8_level0_row2\" class=\"row_heading level0 row2\" >2</th>\n",
       "                        <td id=\"T_922d8_row2_col0\" class=\"data row2 col0\" >3</td>\n",
       "                        <td id=\"T_922d8_row2_col1\" class=\"data row2 col1\" >Miss scarlet and the duke,knifes out,Dublin murders</td>\n",
       "            </tr>\n",
       "            <tr>\n",
       "                        <th id=\"T_922d8_level0_row3\" class=\"row_heading level0 row3\" >3</th>\n",
       "                        <td id=\"T_922d8_row3_col0\" class=\"data row3 col0\" >4</td>\n",
       "                        <td id=\"T_922d8_row3_col1\" class=\"data row3 col1\" >History drama-Vikings,Kid friendly-Casper,Sometimes the conversations while watching Neon can get serious but we all end up having fun together, :)</td>\n",
       "            </tr>\n",
       "            <tr>\n",
       "                        <th id=\"T_922d8_level0_row4\" class=\"row_heading level0 row4\" >4</th>\n",
       "                        <td id=\"T_922d8_row4_col0\" class=\"data row4 col0\" >5</td>\n",
       "                        <td id=\"T_922d8_row4_col1\" class=\"data row4 col1\" >The Undoing,Game of thrones,Outlander, Vikings,CB Strike (and most all British dramas) Westworld</td>\n",
       "            </tr>\n",
       "    </tbody></table>"
      ],
      "text/plain": [
       "<pandas.io.formats.style.Styler at 0x18fe9290fa0>"
      ]
     },
     "execution_count": 70,
     "metadata": {},
     "output_type": "execute_result"
    }
   ],
   "source": [
    "df_styler =survey_response_df.style.set_properties(**{'text-align': 'left'})\n",
    "df_styler.set_table_styles([dict(selector='th', props=[('text-align', 'left')])])"
   ]
  },
  {
   "cell_type": "markdown",
   "id": "fedfa8c8",
   "metadata": {},
   "source": [
    "# Data Transformations"
   ]
  },
  {
   "cell_type": "markdown",
   "id": "6a7bcbda",
   "metadata": {},
   "source": [
    "## Survey Response Transformations"
   ]
  },
  {
   "cell_type": "code",
   "execution_count": 71,
   "id": "7d397282",
   "metadata": {},
   "outputs": [
    {
     "data": {
      "text/html": [
       "<div>\n",
       "<style scoped>\n",
       "    .dataframe tbody tr th:only-of-type {\n",
       "        vertical-align: middle;\n",
       "    }\n",
       "\n",
       "    .dataframe tbody tr th {\n",
       "        vertical-align: top;\n",
       "    }\n",
       "\n",
       "    .dataframe thead th {\n",
       "        text-align: right;\n",
       "    }\n",
       "</style>\n",
       "<table border=\"1\" class=\"dataframe\">\n",
       "  <thead>\n",
       "    <tr style=\"text-align: right;\">\n",
       "      <th></th>\n",
       "      <th>Customer_id</th>\n",
       "      <th>Response</th>\n",
       "      <th>transformed</th>\n",
       "    </tr>\n",
       "  </thead>\n",
       "  <tbody>\n",
       "    <tr>\n",
       "      <th>0</th>\n",
       "      <td>1</td>\n",
       "      <td>Fear the walking dead,Supernatural (huge fan and sad it has finished),The Gentlemen, Outlander</td>\n",
       "      <td>fear the walking dead supernatural  huge fan and sad it has finished  the gentlemen  outlander</td>\n",
       "    </tr>\n",
       "    <tr>\n",
       "      <th>1</th>\n",
       "      <td>2</td>\n",
       "      <td>A lot!\\n\\n-good doctor\\n-gangs of London \\n- the gentleman\\n-ma \\n-spies in disguise</td>\n",
       "      <td>a lot    good doctor  gangs of london    the gentleman  ma   spies in disguise</td>\n",
       "    </tr>\n",
       "    <tr>\n",
       "      <th>2</th>\n",
       "      <td>3</td>\n",
       "      <td>Miss scarlet and the duke,knifes out,Dublin murders</td>\n",
       "      <td>miss scarlet and the duke knifes out dublin murders</td>\n",
       "    </tr>\n",
       "    <tr>\n",
       "      <th>3</th>\n",
       "      <td>4</td>\n",
       "      <td>History drama-Vikings,Kid friendly-Casper,Sometimes the conversations while watching Neon can get serious but we all end up having fun together, :)</td>\n",
       "      <td>history drama vikings kid friendly casper sometimes the conversations while watching neon can get serious but we all end up having fun together</td>\n",
       "    </tr>\n",
       "    <tr>\n",
       "      <th>4</th>\n",
       "      <td>5</td>\n",
       "      <td>The Undoing,Game of thrones,Outlander, Vikings,CB Strike (and most all British dramas) Westworld</td>\n",
       "      <td>the undoing game of thrones outlander  vikings cb strike  and most all british dramas  westworld</td>\n",
       "    </tr>\n",
       "  </tbody>\n",
       "</table>\n",
       "</div>"
      ],
      "text/plain": [
       "   Customer_id                                                                                                                                             Response                                                                                                                                          transformed\n",
       "0            1                                                       Fear the walking dead,Supernatural (huge fan and sad it has finished),The Gentlemen, Outlander                                                       fear the walking dead supernatural  huge fan and sad it has finished  the gentlemen  outlander\n",
       "1            2                                                                A lot!\\n\\n-good doctor\\n-gangs of London \\n- the gentleman\\n-ma \\n-spies in disguise                                                                       a lot    good doctor  gangs of london    the gentleman  ma   spies in disguise \n",
       "2            3                                                                                                  Miss scarlet and the duke,knifes out,Dublin murders                                                                                                  miss scarlet and the duke knifes out dublin murders\n",
       "3            4  History drama-Vikings,Kid friendly-Casper,Sometimes the conversations while watching Neon can get serious but we all end up having fun together, :)  history drama vikings kid friendly casper sometimes the conversations while watching neon can get serious but we all end up having fun together    \n",
       "4            5                                                     The Undoing,Game of thrones,Outlander, Vikings,CB Strike (and most all British dramas) Westworld                                                     the undoing game of thrones outlander  vikings cb strike  and most all british dramas  westworld"
      ]
     },
     "execution_count": 71,
     "metadata": {},
     "output_type": "execute_result"
    }
   ],
   "source": [
    "survey_response_df['transformed'] = survey_response_df.apply(lambda x: re.sub(r'[^\\w]', ' ', x['Response'].lower()), axis=1)\n",
    "survey_response_df.head()"
   ]
  },
  {
   "cell_type": "markdown",
   "id": "0d098e4d",
   "metadata": {},
   "source": [
    "## Content Title Transformations"
   ]
  },
  {
   "cell_type": "code",
   "execution_count": 72,
   "id": "1c0fdd17",
   "metadata": {},
   "outputs": [
    {
     "data": {
      "text/html": [
       "<div>\n",
       "<style scoped>\n",
       "    .dataframe tbody tr th:only-of-type {\n",
       "        vertical-align: middle;\n",
       "    }\n",
       "\n",
       "    .dataframe tbody tr th {\n",
       "        vertical-align: top;\n",
       "    }\n",
       "\n",
       "    .dataframe thead th {\n",
       "        text-align: right;\n",
       "    }\n",
       "</style>\n",
       "<table border=\"1\" class=\"dataframe\">\n",
       "  <thead>\n",
       "    <tr style=\"text-align: right;\">\n",
       "      <th></th>\n",
       "      <th>Content_name</th>\n",
       "      <th>transformed</th>\n",
       "    </tr>\n",
       "  </thead>\n",
       "  <tbody>\n",
       "    <tr>\n",
       "      <th>0</th>\n",
       "      <td>Fear the Walking Dead</td>\n",
       "      <td>fear the walking dead</td>\n",
       "    </tr>\n",
       "    <tr>\n",
       "      <th>1</th>\n",
       "      <td>Supernatural</td>\n",
       "      <td>supernatural</td>\n",
       "    </tr>\n",
       "    <tr>\n",
       "      <th>2</th>\n",
       "      <td>The Gentlemen</td>\n",
       "      <td>the gentlemen</td>\n",
       "    </tr>\n",
       "    <tr>\n",
       "      <th>3</th>\n",
       "      <td>Outlander</td>\n",
       "      <td>outlander</td>\n",
       "    </tr>\n",
       "    <tr>\n",
       "      <th>4</th>\n",
       "      <td>The Good Doctor</td>\n",
       "      <td>the good doctor</td>\n",
       "    </tr>\n",
       "  </tbody>\n",
       "</table>\n",
       "</div>"
      ],
      "text/plain": [
       "            Content_name            transformed\n",
       "0  Fear the Walking Dead  fear the walking dead\n",
       "1           Supernatural           supernatural\n",
       "2          The Gentlemen          the gentlemen\n",
       "3              Outlander              outlander\n",
       "4        The Good Doctor        the good doctor"
      ]
     },
     "execution_count": 72,
     "metadata": {},
     "output_type": "execute_result"
    }
   ],
   "source": [
    "content_titles_df['transformed'] = content_titles_df.apply(lambda x: re.sub(r'[^\\w]', ' ', x['Content_name'].lower()), axis=1)\n",
    "content_titles_df.head()"
   ]
  },
  {
   "cell_type": "markdown",
   "id": "27e9c5d7",
   "metadata": {},
   "source": [
    "# Finding the Matches"
   ]
  },
  {
   "cell_type": "code",
   "execution_count": 73,
   "id": "f456525a",
   "metadata": {},
   "outputs": [
    {
     "data": {
      "text/html": [
       "<div>\n",
       "<style scoped>\n",
       "    .dataframe tbody tr th:only-of-type {\n",
       "        vertical-align: middle;\n",
       "    }\n",
       "\n",
       "    .dataframe tbody tr th {\n",
       "        vertical-align: top;\n",
       "    }\n",
       "\n",
       "    .dataframe thead th {\n",
       "        text-align: right;\n",
       "    }\n",
       "</style>\n",
       "<table border=\"1\" class=\"dataframe\">\n",
       "  <thead>\n",
       "    <tr style=\"text-align: right;\">\n",
       "      <th></th>\n",
       "      <th>Customer_id</th>\n",
       "      <th>Response</th>\n",
       "      <th>Number_of_matches</th>\n",
       "      <th>Titles_found</th>\n",
       "    </tr>\n",
       "  </thead>\n",
       "  <tbody>\n",
       "    <tr>\n",
       "      <th>0</th>\n",
       "      <td>1</td>\n",
       "      <td>Fear the walking dead,Supernatural (huge fan and sad it has finished),The Gentlemen, Outlander</td>\n",
       "      <td>4</td>\n",
       "      <td>Fear the Walking Dead, Supernatural, The Gentlemen, Outlander,</td>\n",
       "    </tr>\n",
       "    <tr>\n",
       "      <th>1</th>\n",
       "      <td>2</td>\n",
       "      <td>A lot!\\n\\n-good doctor\\n-gangs of London \\n- the gentleman\\n-ma \\n-spies in disguise</td>\n",
       "      <td>3</td>\n",
       "      <td>Gangs of London, Ma, Spies in Disguise,</td>\n",
       "    </tr>\n",
       "    <tr>\n",
       "      <th>2</th>\n",
       "      <td>3</td>\n",
       "      <td>Miss scarlet and the duke,knifes out,Dublin murders</td>\n",
       "      <td>2</td>\n",
       "      <td>Miss Scarlet and the Duke, Dublin Murders,</td>\n",
       "    </tr>\n",
       "    <tr>\n",
       "      <th>3</th>\n",
       "      <td>4</td>\n",
       "      <td>History drama-Vikings,Kid friendly-Casper,Sometimes the conversations while watching Neon can get serious but we all end up having fun together, :)</td>\n",
       "      <td>3</td>\n",
       "      <td>Ma, Vikings, Casper,</td>\n",
       "    </tr>\n",
       "    <tr>\n",
       "      <th>4</th>\n",
       "      <td>5</td>\n",
       "      <td>The Undoing,Game of thrones,Outlander, Vikings,CB Strike (and most all British dramas) Westworld</td>\n",
       "      <td>6</td>\n",
       "      <td>Outlander, Ma, Vikings, The Undoing, Game of Thrones, Westworld,</td>\n",
       "    </tr>\n",
       "  </tbody>\n",
       "</table>\n",
       "</div>"
      ],
      "text/plain": [
       "   Customer_id                                                                                                                                             Response  Number_of_matches                                                       Titles_found\n",
       "0            1                                                       Fear the walking dead,Supernatural (huge fan and sad it has finished),The Gentlemen, Outlander                  4    Fear the Walking Dead, Supernatural, The Gentlemen, Outlander, \n",
       "1            2                                                                A lot!\\n\\n-good doctor\\n-gangs of London \\n- the gentleman\\n-ma \\n-spies in disguise                   3                           Gangs of London, Ma, Spies in Disguise, \n",
       "2            3                                                                                                  Miss scarlet and the duke,knifes out,Dublin murders                  2                        Miss Scarlet and the Duke, Dublin Murders, \n",
       "3            4  History drama-Vikings,Kid friendly-Casper,Sometimes the conversations while watching Neon can get serious but we all end up having fun together, :)                  3                                              Ma, Vikings, Casper, \n",
       "4            5                                                     The Undoing,Game of thrones,Outlander, Vikings,CB Strike (and most all British dramas) Westworld                  6  Outlander, Ma, Vikings, The Undoing, Game of Thrones, Westworld, "
      ]
     },
     "execution_count": 73,
     "metadata": {},
     "output_type": "execute_result"
    }
   ],
   "source": [
    "titles_found_list = []\n",
    "number_of_matches_list = []\n",
    "for index_2, row_2 in survey_response_df.iterrows():\n",
    "    \n",
    "    number_of_matches = 0\n",
    "    titles_found = ''\n",
    "    for index_1, row_1 in content_titles_df.iterrows():\n",
    "        keyword = row_1['transformed']\n",
    "        if keyword in row_2['transformed']:\n",
    "            number_of_matches+=1\n",
    "            titles_found += row_1['Content_name'] + ', '\n",
    "    number_of_matches_list.append(number_of_matches)\n",
    "    titles_found_list.append(titles_found)\n",
    "result_dict = {\n",
    "    'Customer_id':survey_response_df['Customer_id'],\n",
    "    'Response':survey_response_df['Response'],\n",
    "    'Number_of_matches':number_of_matches_list,\n",
    "    'Titles_found': titles_found_list}\n",
    "result_df = pd.DataFrame(result_dict)\n",
    "result_df.head()"
   ]
  },
  {
   "cell_type": "code",
   "execution_count": null,
   "id": "e0eb7f98",
   "metadata": {},
   "outputs": [],
   "source": []
  }
 ],
 "metadata": {
  "kernelspec": {
   "display_name": ".venv",
   "language": "python",
   "name": ".venv"
  },
  "language_info": {
   "codemirror_mode": {
    "name": "ipython",
    "version": 3
   },
   "file_extension": ".py",
   "mimetype": "text/x-python",
   "name": "python",
   "nbconvert_exporter": "python",
   "pygments_lexer": "ipython3",
   "version": "3.8.8"
  }
 },
 "nbformat": 4,
 "nbformat_minor": 5
}
